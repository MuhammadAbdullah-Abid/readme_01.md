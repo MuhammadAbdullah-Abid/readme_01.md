{
 "cells": [
  {
   "cell_type": "markdown",
   "metadata": {},
   "source": [
    "Chapter 3: Lists in Python"
   ]
  },
  {
   "cell_type": "markdown",
   "metadata": {},
   "source": [
    "Exercise 3-1: Names"
   ]
  },
  {
   "cell_type": "code",
   "execution_count": 52,
   "metadata": {},
   "outputs": [
    {
     "name": "stdout",
     "output_type": "stream",
     "text": [
      "Abdul Rehman\n",
      "Umair\n",
      "Abdullah\n",
      "Ahmad\n",
      "Taha\n",
      "Dilawar\n"
     ]
    }
   ],
   "source": [
    "names = ['Abdul Rehman','Umair','Abdullah','Ahmad','Taha','Dilawar']\n",
    "print(names[0])\n",
    "print(names[1])\n",
    "print(names[2])\n",
    "print(names[3])\n",
    "print(names[4])\n",
    "print(names[5])"
   ]
  },
  {
   "cell_type": "markdown",
   "metadata": {},
   "source": [
    "Exercise 3-2: Greetings"
   ]
  },
  {
   "cell_type": "code",
   "execution_count": 53,
   "metadata": {},
   "outputs": [
    {
     "name": "stdout",
     "output_type": "stream",
     "text": [
      "Hello, Abdul Rehman! How are you? See I am learning Python.Come and join me in this task.\n",
      "Hello, Umair! How are you? See I am learning Python.Come and join me in this task.\n",
      "Hello, Abdullah! How are you? See I am learning Python.Come and join me in this task.\n",
      "Hello, Ahmad! How are you? See I am learning Python.Come and join me in this task.\n",
      "Hello, Taha! How are you? See I am learning Python.Come and join me in this task.\n",
      "Hello, Dilawar! How are you? See I am learning Python.Come and join me in this task.\n"
     ]
    }
   ],
   "source": [
    "print(f\"Hello, {names[0]}! How are you? See I am learning Python.Come and join me in this task.\")\n",
    "print(f\"Hello, {names[1]}! How are you? See I am learning Python.Come and join me in this task.\")\n",
    "print(f\"Hello, {names[2]}! How are you? See I am learning Python.Come and join me in this task.\")\n",
    "print(f\"Hello, {names[3]}! How are you? See I am learning Python.Come and join me in this task.\")\n",
    "print(f\"Hello, {names[4]}! How are you? See I am learning Python.Come and join me in this task.\")\n",
    "print(f\"Hello, {names[5]}! How are you? See I am learning Python.Come and join me in this task.\")"
   ]
  },
  {
   "cell_type": "markdown",
   "metadata": {},
   "source": [
    "Exercise 3-3: Your Own List"
   ]
  },
  {
   "cell_type": "code",
   "execution_count": 54,
   "metadata": {},
   "outputs": [
    {
     "name": "stdout",
     "output_type": "stream",
     "text": [
      "Honda Motorcycle is my first motorbike.\n",
      "My Favorite car brand is Bugatti.\n",
      "Audi holds the record for the longest drifting track.\n",
      "Toyota is known for its exception reliability.\n"
     ]
    }
   ],
   "source": [
    "vehicles = ['Honda Motorcycle','Audi','Bugatti','BMV','Toyota']\n",
    "print(f'{vehicles[0]} is my first motorbike.')\n",
    "print(f'My Favorite car brand is {vehicles[2]}.')\n",
    "print(f'{vehicles[1]} holds the record for the longest drifting track.')\n",
    "print(f'{vehicles[4]} is known for its exception reliability.')\n",
    "\n"
   ]
  },
  {
   "cell_type": "markdown",
   "metadata": {},
   "source": [
    "Exercise 3-4: Guest List"
   ]
  },
  {
   "cell_type": "code",
   "execution_count": 55,
   "metadata": {},
   "outputs": [
    {
     "name": "stdout",
     "output_type": "stream",
     "text": [
      "Hello, Abdul Rehman! How are you? It would be my pleasure if you could join me for a dinner tomorrow.\n",
      "Hello, Umair! How are you? It would be my pleasure if you could join me for a dinner tomorrow.\n",
      "Hello, Abdullah! How are you? It would be my pleasure if you could join me for a dinner tomorrow.\n",
      "Hello, Taha! How are you? It would be my pleasure if you could join me for a dinner tomorrow.\n",
      "Hello, Dilawar! How are you? It would be my pleasure if you could join me for a dinner tomorrow.\n"
     ]
    }
   ],
   "source": [
    "members = ['Abdul Rehman','Umair','Abdullah','Taha','Dilawar']\n",
    "print(f'Hello, {members[0]}! How are you? It would be my pleasure if you could join me for a dinner tomorrow.')\n",
    "print(f'Hello, {members[1]}! How are you? It would be my pleasure if you could join me for a dinner tomorrow.')\n",
    "print(f'Hello, {members[2]}! How are you? It would be my pleasure if you could join me for a dinner tomorrow.')\n",
    "print(f'Hello, {members[3]}! How are you? It would be my pleasure if you could join me for a dinner tomorrow.')\n",
    "print(f'Hello, {members[4]}! How are you? It would be my pleasure if you could join me for a dinner tomorrow.')"
   ]
  },
  {
   "cell_type": "markdown",
   "metadata": {},
   "source": [
    "Exercise 3-5: Changing Guest List"
   ]
  },
  {
   "cell_type": "code",
   "execution_count": 56,
   "metadata": {},
   "outputs": [
    {
     "name": "stdout",
     "output_type": "stream",
     "text": [
      "Taha is busy. He is not coming to dinner tomorrow.\n",
      "['Abdul Rehman', 'Umair', 'Abdullah', 'Ahmad', 'Dilawar']\n",
      "Hello, Abdul Rehman! How are you? It would be my pleasure if you could join me for a dinner tomorrow.\n",
      "Hello, Umair! How are you? It would be my pleasure if you could join me for a dinner tomorrow.\n",
      "Hello, Abdullah! How are you? It would be my pleasure if you could join me for a dinner tomorrow.\n",
      "Hello, Ahmad! How are you? It would be my pleasure if you could join me for a dinner tomorrow.\n",
      "Hello, Dilawar! How are you? It would be my pleasure if you could join me for a dinner tomorrow.\n"
     ]
    }
   ],
   "source": [
    "excuse_maker = members.pop(3)\n",
    "print(f'{excuse_maker} is busy. He is not coming to dinner tomorrow.')\n",
    "members.insert(3,'Ahmad')\n",
    "print(members)\n",
    "print(f'Hello, {members[0]}! How are you? It would be my pleasure if you could join me for a dinner tomorrow.')\n",
    "print(f'Hello, {members[1]}! How are you? It would be my pleasure if you could join me for a dinner tomorrow.')\n",
    "print(f'Hello, {members[2]}! How are you? It would be my pleasure if you could join me for a dinner tomorrow.')\n",
    "print(f'Hello, {members[3]}! How are you? It would be my pleasure if you could join me for a dinner tomorrow.')\n",
    "print(f'Hello, {members[4]}! How are you? It would be my pleasure if you could join me for a dinner tomorrow.')\n"
   ]
  },
  {
   "cell_type": "markdown",
   "metadata": {},
   "source": [
    "Exercise 3-6: More Guests"
   ]
  },
  {
   "cell_type": "code",
   "execution_count": 57,
   "metadata": {},
   "outputs": [
    {
     "name": "stdout",
     "output_type": "stream",
     "text": [
      "Hello Guys I have just found a bigger dinner table. That's way I am inviting Isnan , Tuaha and Zakir\n",
      "['Isnan', 'Abdul Rehman', 'Umair', 'Tuaha', 'Abdullah', 'Ahmad', 'Zakir', 'Dilawar']\n",
      "Hello, Isnan! How are you? It would be my pleasure if you could join me for a dinner tomorrow.\n",
      "Hello, Abdul Rehman! How are you? It would be my pleasure if you could join me for a dinner tomorrow.\n",
      "Hello, Umair! How are you? It would be my pleasure if you could join me for a dinner tomorrow.\n",
      "Hello, Tuaha! How are you? It would be my pleasure if you could join me for a dinner tomorrow.\n",
      "Hello, Abdullah! How are you? It would be my pleasure if you could join me for a dinner tomorrow.\n",
      "Hello, Ahmad! How are you? It would be my pleasure if you could join me for a dinner tomorrow.\n",
      "Hello, Zakir! How are you? It would be my pleasure if you could join me for a dinner tomorrow.\n",
      "Hello, Dilawar! How are you? It would be my pleasure if you could join me for a dinner tomorrow.\n"
     ]
    }
   ],
   "source": [
    "print(\"Hello Guys I have just found a bigger dinner table. That's way I am inviting Isnan , Tuaha and Zakir\")\n",
    "members.insert(0,'Isnan')\n",
    "members.insert(3,'Tuaha')\n",
    "members.insert(6,'Zakir')\n",
    "print(members)\n",
    "print(f'Hello, {members[0]}! How are you? It would be my pleasure if you could join me for a dinner tomorrow.')\n",
    "print(f'Hello, {members[1]}! How are you? It would be my pleasure if you could join me for a dinner tomorrow.')\n",
    "print(f'Hello, {members[2]}! How are you? It would be my pleasure if you could join me for a dinner tomorrow.')\n",
    "print(f'Hello, {members[3]}! How are you? It would be my pleasure if you could join me for a dinner tomorrow.')\n",
    "print(f'Hello, {members[4]}! How are you? It would be my pleasure if you could join me for a dinner tomorrow.')\n",
    "print(f'Hello, {members[5]}! How are you? It would be my pleasure if you could join me for a dinner tomorrow.')\n",
    "print(f'Hello, {members[6]}! How are you? It would be my pleasure if you could join me for a dinner tomorrow.')\n",
    "print(f'Hello, {members[7]}! How are you? It would be my pleasure if you could join me for a dinner tomorrow.')"
   ]
  },
  {
   "cell_type": "markdown",
   "metadata": {},
   "source": [
    "Exercise 3-7: Shrinking Guest List"
   ]
  },
  {
   "cell_type": "code",
   "execution_count": 58,
   "metadata": {},
   "outputs": [
    {
     "name": "stdout",
     "output_type": "stream",
     "text": [
      "I have just found out that my new bigger dinner table won't come on time. Sorry guys I can't invite you all to dinner. I have space for only 02 persons.\n",
      "Sorry Dilawar , I can't invite you to dinner.\n",
      "Sorry Zakir , I can't invite you to dinner.\n",
      "Sorry Ahmad , I can't invite you to dinner.\n",
      "Sorry Abdullah , I can't invite you to dinner.\n",
      "Sorry Tuaha , I can't invite you to dinner.\n",
      "Sorry Umair , I can't invite you to dinner.\n",
      "Hello Isnan! You are still invited to dinner tomorrow.\n",
      "Hello Abdul Rehman! You are still invited to dinner tomorrow.\n"
     ]
    }
   ],
   "source": [
    "print(\"I have just found out that my new bigger dinner table won't come on time. Sorry guys I can't invite you all to dinner. I have space for only 02 persons.\")\n",
    "popped_member_01 = members.pop()\n",
    "print(f\"Sorry {popped_member_01} , I can't invite you to dinner.\")\n",
    "popped_member_02 = members.pop()\n",
    "print(f\"Sorry {popped_member_02} , I can't invite you to dinner.\")\n",
    "popped_member_03 = members.pop()\n",
    "print(f\"Sorry {popped_member_03} , I can't invite you to dinner.\")\n",
    "popped_member_04 = members.pop()\n",
    "print(f\"Sorry {popped_member_04} , I can't invite you to dinner.\")\n",
    "popped_member_05 = members.pop()\n",
    "print(f\"Sorry {popped_member_05} , I can't invite you to dinner.\")\n",
    "popped_member_06 = members.pop()\n",
    "print(f\"Sorry {popped_member_06} , I can't invite you to dinner.\")\n",
    "print(f'Hello {members[0]}! You are still invited to dinner tomorrow.')\n",
    "print(f'Hello {members[1]}! You are still invited to dinner tomorrow.')"
   ]
  },
  {
   "cell_type": "code",
   "execution_count": 59,
   "metadata": {},
   "outputs": [
    {
     "name": "stdout",
     "output_type": "stream",
     "text": [
      "['Isnan', 'Abdul Rehman']\n",
      "[]\n"
     ]
    }
   ],
   "source": [
    "print(members)\n",
    "del members[0:2]\n",
    "print(members)"
   ]
  },
  {
   "cell_type": "markdown",
   "metadata": {},
   "source": [
    "Exercise 3-8: Seeing the World"
   ]
  },
  {
   "cell_type": "code",
   "execution_count": 60,
   "metadata": {},
   "outputs": [
    {
     "name": "stdout",
     "output_type": "stream",
     "text": [
      "The raw list of beautiful places : ['Skardu', 'Galapagos Islands', 'Masjid al-Haram', 'Hagia Sophia Grand Mosque', 'Angel Falls']\n",
      "The sorted list using sorted() : ['Angel Falls', 'Galapagos Islands', 'Hagia Sophia Grand Mosque', 'Masjid al-Haram', 'Skardu']\n",
      "The reverse sorted list using sorted() : ['Skardu', 'Masjid al-Haram', 'Hagia Sophia Grand Mosque', 'Galapagos Islands', 'Angel Falls']\n",
      "Original list again :  ['Skardu', 'Galapagos Islands', 'Masjid al-Haram', 'Hagia Sophia Grand Mosque', 'Angel Falls']\n",
      "The reverse ordered list using reverse() :  ['Angel Falls', 'Hagia Sophia Grand Mosque', 'Masjid al-Haram', 'Galapagos Islands', 'Skardu']\n",
      "The again reverse ordered list using reverse() :  ['Skardu', 'Galapagos Islands', 'Masjid al-Haram', 'Hagia Sophia Grand Mosque', 'Angel Falls']\n",
      "The sorted list using sort() : ['Angel Falls', 'Galapagos Islands', 'Hagia Sophia Grand Mosque', 'Masjid al-Haram', 'Skardu']\n",
      "The reverse sorted list using sort() : ['Skardu', 'Masjid al-Haram', 'Hagia Sophia Grand Mosque', 'Galapagos Islands', 'Angel Falls']\n"
     ]
    }
   ],
   "source": [
    "beautiful_places = ['Skardu','Galapagos Islands','Masjid al-Haram','Hagia Sophia Grand Mosque','Angel Falls']\n",
    "print(f'The raw list of beautiful places : {beautiful_places}')\n",
    "print(f'The sorted list using sorted() : {sorted(beautiful_places)}')\n",
    "print(f'The reverse sorted list using sorted() : {sorted(beautiful_places,reverse=True)}')\n",
    "print(\"Original list again : \", beautiful_places)\n",
    "beautiful_places.reverse()\n",
    "print(\"The reverse ordered list using reverse() : \",beautiful_places)\n",
    "beautiful_places.reverse()\n",
    "print(\"The again reverse ordered list using reverse() : \",beautiful_places)\n",
    "beautiful_places.sort()\n",
    "print(f'The sorted list using sort() : {beautiful_places}')\n",
    "beautiful_places.sort(reverse=True)\n",
    "print(f'The reverse sorted list using sort() : {beautiful_places}')"
   ]
  },
  {
   "cell_type": "markdown",
   "metadata": {},
   "source": [
    "Exercise 3-9: Dinner Guests"
   ]
  },
  {
   "cell_type": "code",
   "execution_count": 61,
   "metadata": {},
   "outputs": [
    {
     "name": "stdout",
     "output_type": "stream",
     "text": [
      "The guests I invite to dinner are : 0\n"
     ]
    }
   ],
   "source": [
    "print(\"The guests I invite to dinner are :\",len(members))"
   ]
  },
  {
   "cell_type": "markdown",
   "metadata": {},
   "source": [
    "Exercise 3-10: Every Function"
   ]
  },
  {
   "cell_type": "code",
   "execution_count": 62,
   "metadata": {},
   "outputs": [
    {
     "name": "stdout",
     "output_type": "stream",
     "text": [
      "The original list :  ['K-2', 'Mount Everest', 'Indus River', 'Angel Falls', 'Islamabad', 'Hagia Sophia Grand Mosque', 'Galapagos Islands', 'Turkey', 'Greece']\n",
      "Greece\n",
      "The appended list : ['K-2', 'Mount Everest', 'Indus River', 'Angel Falls', 'Islamabad', 'Hagia Sophia Grand Mosque', 'Galapagos Islands', 'Turkey', 'Greece', 'Pakistan']\n",
      "The new list after using insert() : ['K-2', 'Mount Everest', 'Indus River', 'Angel Falls', 'Australia', 'Islamabad', 'Hagia Sophia Grand Mosque', 'Galapagos Islands', 'Turkey', 'Greece', 'Pakistan']\n",
      "The new list after using del : ['K-2', 'Mount Everest', 'Indus River', 'Australia', 'Islamabad', 'Hagia Sophia Grand Mosque', 'Galapagos Islands', 'Turkey', 'Greece', 'Pakistan']\n",
      "Indus River\n",
      "The new list after using pop() : ['K-2', 'Mount Everest', 'Australia', 'Islamabad', 'Hagia Sophia Grand Mosque', 'Galapagos Islands', 'Turkey', 'Greece', 'Pakistan']\n",
      "The new list after using remove() : ['K-2', 'Mount Everest', 'Australia', 'Islamabad', 'Galapagos Islands', 'Turkey', 'Greece', 'Pakistan']\n",
      "The new list after using sort() : ['Australia', 'Galapagos Islands', 'Greece', 'Islamabad', 'K-2', 'Mount Everest', 'Pakistan', 'Turkey']\n",
      "The new list after using sort(reverse = True) : ['Turkey', 'Pakistan', 'Mount Everest', 'K-2', 'Islamabad', 'Greece', 'Galapagos Islands', 'Australia']\n",
      "The new list after using sorted() : ['Australia', 'Galapagos Islands', 'Greece', 'Islamabad', 'K-2', 'Mount Everest', 'Pakistan', 'Turkey']\n",
      "The new list after using sorted(variable,reverse = True) : ['Turkey', 'Pakistan', 'Mount Everest', 'K-2', 'Islamabad', 'Greece', 'Galapagos Islands', 'Australia']\n",
      "The new list after using reverse() : ['Australia', 'Galapagos Islands', 'Greece', 'Islamabad', 'K-2', 'Mount Everest', 'Pakistan', 'Turkey']\n"
     ]
    },
    {
     "data": {
      "text/plain": [
       "8"
      ]
     },
     "execution_count": 62,
     "metadata": {},
     "output_type": "execute_result"
    }
   ],
   "source": [
    "list_00 = ['K-2','Mount Everest','Indus River','Angel Falls','Islamabad','Hagia Sophia Grand Mosque','Galapagos Islands','Turkey','Greece']\n",
    "print(\"The original list : \",list_00)\n",
    "# 01\n",
    "print(list_00[-1])\n",
    "# 02\n",
    "list_00.append('Pakistan')\n",
    "print(\"The appended list :\",list_00)\n",
    "# 03\n",
    "list_00.insert(4,'Australia')\n",
    "print(\"The new list after using insert() :\",list_00)\n",
    "# 04\n",
    "del list_00[3]\n",
    "print(\"The new list after using del :\",list_00)\n",
    "# 05\n",
    "popped_element = list_00.pop(2)\n",
    "print(popped_element)\n",
    "print(\"The new list after using pop() :\",list_00)\n",
    "# 06\n",
    "list_00.remove('Hagia Sophia Grand Mosque')\n",
    "print(\"The new list after using remove() :\",list_00)\n",
    "# 07\n",
    "list_00.sort()\n",
    "print(\"The new list after using sort() :\",list_00)\n",
    "# 08\n",
    "list_00.sort(reverse = True)\n",
    "print(\"The new list after using sort(reverse = True) :\",list_00)\n",
    "# 09\n",
    "print(\"The new list after using sorted() :\",sorted(list_00))\n",
    "# 10\n",
    "print(\"The new list after using sorted(variable,reverse = True) :\",sorted(list_00,reverse=True))\n",
    "# 11\n",
    "list_00.reverse()\n",
    "print(\"The new list after using reverse() :\",list_00)\n",
    "# 12\n",
    "len(list_00)"
   ]
  },
  {
   "cell_type": "markdown",
   "metadata": {},
   "source": [
    "THE END "
   ]
  }
 ],
 "metadata": {
  "kernelspec": {
   "display_name": "Python 3",
   "language": "python",
   "name": "python3"
  },
  "language_info": {
   "codemirror_mode": {
    "name": "ipython",
    "version": 3
   },
   "file_extension": ".py",
   "mimetype": "text/x-python",
   "name": "python",
   "nbconvert_exporter": "python",
   "pygments_lexer": "ipython3",
   "version": "3.13.1"
  }
 },
 "nbformat": 4,
 "nbformat_minor": 2
}
